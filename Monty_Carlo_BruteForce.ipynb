{
  "nbformat": 4,
  "nbformat_minor": 0,
  "metadata": {
    "colab": {
      "name": "Monty-Carlo-BruteForce.ipynb",
      "provenance": [],
      "collapsed_sections": [],
      "authorship_tag": "ABX9TyNTM2qionqIPZdlT1/6IMtx",
      "include_colab_link": true
    },
    "kernelspec": {
      "name": "python3",
      "display_name": "Python 3"
    },
    "language_info": {
      "name": "python"
    }
  },
  "cells": [
    {
      "cell_type": "markdown",
      "metadata": {
        "id": "view-in-github",
        "colab_type": "text"
      },
      "source": [
        "<a href=\"https://colab.research.google.com/github/HimaSava/Monty_Hall_Problem/blob/main/Monty_Carlo_BruteForce.ipynb\" target=\"_parent\"><img src=\"https://colab.research.google.com/assets/colab-badge.svg\" alt=\"Open In Colab\"/></a>"
      ]
    },
    {
      "cell_type": "code",
      "metadata": {
        "id": "PfwZDWsxUL4C",
        "colab": {
          "base_uri": "https://localhost:8080/"
        },
        "outputId": "69fb93a2-f13e-4810-9041-8fd56868fb45"
      },
      "source": [
        "import random as rd\n",
        "import numpy as np\n",
        "\n",
        "win_noswitch = 0\n",
        "loss_noswitch = 0\n",
        "loss_switch = 0\n",
        "win_switch = 0\n",
        "\n",
        "#No of iterations of the experiment\n",
        "n = 1000000\n",
        "\n",
        "for i in range(n):\n",
        "  prize = rd.randint(0,2)\n",
        "  opt = ['n','n','n']\n",
        "  opt[prize] = 'p'\n",
        "\n",
        "  #Selectin the first door at random  \n",
        "  first_door = rd.randint(0,2)\n",
        "\n",
        "  #Finding the remaining doors and opening a door with nothing behind\n",
        "  remaining_doors = [0,1,2]\n",
        "  remaining_doors = np.delete(remaining_doors,first_door)\n",
        "  if(opt[remaining_doors[0]] == 'n' and opt[remaining_doors[1]] == 'n'): \n",
        "    open_door = rd.randint(0,1)\n",
        "  elif(opt[remaining_doors[0]] == 'n'):\n",
        "    open_door = 0\n",
        "  else:\n",
        "    open_door = 1\n",
        "  \n",
        "  #Dont switch\n",
        "  if(opt[first_door] == 'p'):\n",
        "    win_noswitch+=1\n",
        "  else:\n",
        "    loss_noswitch+=1\n",
        "\n",
        "  #Switch\n",
        "  remaining_doors = np.delete(remaining_doors,open_door)\n",
        "  second_door = remaining_doors[0]\n",
        "  if(opt[second_door] == 'p'):\n",
        "    win_switch+=1\n",
        "  else:\n",
        "    loss_switch+=1\n",
        "\n",
        "\n",
        "#Display final result output\n",
        "print(\"FINAL RESULTS after \", n, \" iterations\")\n",
        "print()\n",
        "print(\"For Not Switching Condition:\")\n",
        "print(\"Wins: \", win_noswitch)\n",
        "print(\"Loss: \", loss_noswitch)\n",
        "print(\"Win Percentage: \", (win_noswitch/n)*100)\n",
        "print()\n",
        "print(\"For Switching Condition:\")\n",
        "print(\"Wins: \", win_switch)\n",
        "print(\"Loss: \", loss_switch)\n",
        "print(\"Win Percentage: \", (win_switch/n)*100)\n"
      ],
      "execution_count": 56,
      "outputs": [
        {
          "output_type": "stream",
          "text": [
            "FINAL RESULTS after  1000000  iterations\n",
            "\n",
            "For Not Switching Condition:\n",
            "Wins:  333671\n",
            "Loss:  666329\n",
            "Win Percentage:  33.3671\n",
            "\n",
            "For Switching Condition:\n",
            "Wins:  666329\n",
            "Loss:  333671\n",
            "Win Percentage:  66.63289999999999\n"
          ],
          "name": "stdout"
        }
      ]
    }
  ]
}